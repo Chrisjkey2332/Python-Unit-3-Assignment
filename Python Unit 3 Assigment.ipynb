{
 "cells": [
  {
   "cell_type": "code",
   "execution_count": 1,
   "metadata": {},
   "outputs": [
    {
     "name": "stdout",
     "output_type": "stream",
     "text": [
      "[command] [item] (command is a to add, d to delete, q t quit)\n"
     ]
    },
    {
     "ename": "NameError",
     "evalue": "name 'raw_input' is not defined",
     "output_type": "error",
     "traceback": [
      "\u001b[1;31m---------------------------------------------------------------------------\u001b[0m",
      "\u001b[1;31mNameError\u001b[0m                                 Traceback (most recent call last)",
      "Cell \u001b[1;32mIn [1], line 42\u001b[0m\n\u001b[0;32m     39\u001b[0m     \u001b[38;5;28mprint\u001b[39m (cart)\n\u001b[0;32m     40\u001b[0m     \u001b[38;5;28mprint\u001b[39m (\u001b[38;5;124m\"\u001b[39m\u001b[38;5;124mFinished!\u001b[39m\u001b[38;5;124m\"\u001b[39m)\n\u001b[1;32m---> 42\u001b[0m \u001b[43mgo_shopping\u001b[49m\u001b[43m(\u001b[49m\u001b[43m)\u001b[49m\n",
      "Cell \u001b[1;32mIn [1], line 35\u001b[0m, in \u001b[0;36mgo_shopping\u001b[1;34m()\u001b[0m\n\u001b[0;32m     32\u001b[0m cart \u001b[38;5;241m=\u001b[39m \u001b[38;5;28mdict\u001b[39m()\n\u001b[0;32m     34\u001b[0m \u001b[38;5;28;01mwhile\u001b[39;00m \u001b[38;5;28;01mTrue\u001b[39;00m:\n\u001b[1;32m---> 35\u001b[0m     order \u001b[38;5;241m=\u001b[39m \u001b[43mget_order\u001b[49m\u001b[43m(\u001b[49m\u001b[43m)\u001b[49m\n\u001b[0;32m     36\u001b[0m     \u001b[38;5;28;01mif\u001b[39;00m \u001b[38;5;129;01mnot\u001b[39;00m process_order(order, cart):\n\u001b[0;32m     37\u001b[0m         \u001b[38;5;28;01mbreak\u001b[39;00m \n",
      "Cell \u001b[1;32mIn [1], line 3\u001b[0m, in \u001b[0;36mget_order\u001b[1;34m()\u001b[0m\n\u001b[0;32m      1\u001b[0m \u001b[38;5;28;01mdef\u001b[39;00m \u001b[38;5;21mget_order\u001b[39m():\n\u001b[0;32m      2\u001b[0m     \u001b[38;5;28mprint\u001b[39m (\u001b[38;5;124m\"\u001b[39m\u001b[38;5;124m[command] [item] (command is a to add, d to delete, q t quit)\u001b[39m\u001b[38;5;124m\"\u001b[39m)\n\u001b[1;32m----> 3\u001b[0m     line \u001b[38;5;241m=\u001b[39m \u001b[43mraw_input\u001b[49m()\n\u001b[0;32m      5\u001b[0m     command \u001b[38;5;241m=\u001b[39m line[:\u001b[38;5;241m1\u001b[39m]\n\u001b[0;32m      6\u001b[0m     item \u001b[38;5;241m=\u001b[39m line[\u001b[38;5;241m2\u001b[39m:]\n",
      "\u001b[1;31mNameError\u001b[0m: name 'raw_input' is not defined"
     ]
    }
   ],
   "source": [
    "def get_order():\n",
    "    print (\"[command] [item] (command is a to add, d to delete, q t quit)\")\n",
    "    line = raw_input()\n",
    "\n",
    "    command = line[:1]\n",
    "    item = line[2:]\n",
    "\n",
    "    return command, item\n",
    "\n",
    "def add_to_cart(item, cart):\n",
    "    if not item in cart:\n",
    "        cart[item] = 0\n",
    "    cart[item] += 1\n",
    "\n",
    "def delete_from_cart(item, cart):\n",
    "    if item in cart:\n",
    "        cart[item] -=1\n",
    "\n",
    "def process_order(order, cart):\n",
    "    command, item = order\n",
    "\n",
    "    if command == \"a\":\n",
    "        add_to_cart(item, cart)\n",
    "    elif command == \"d\" and item in cart:\n",
    "        delete_from_cart(item, cart)\n",
    "    elif command == \"q\":\n",
    "        return False\n",
    "    \n",
    "    return True\n",
    "\n",
    "def go_shopping():\n",
    "    cart = dict()\n",
    "    \n",
    "    while True:\n",
    "        order = get_order()\n",
    "        if not process_order(order, cart):\n",
    "            break \n",
    "\n",
    "    print (cart)\n",
    "    print (\"Finished!\")\n",
    "\n",
    "go_shopping()"
   ]
  },
  {
   "cell_type": "code",
   "execution_count": 5,
   "metadata": {},
   "outputs": [
    {
     "name": "stdout",
     "output_type": "stream",
     "text": [
      "3.141592653589793\n"
     ]
    }
   ],
   "source": [
    "import module \n",
    "\n",
    "print"
   ]
  }
 ],
 "metadata": {
  "kernelspec": {
   "display_name": "Python 3.9.13 64-bit (microsoft store)",
   "language": "python",
   "name": "python3"
  },
  "language_info": {
   "codemirror_mode": {
    "name": "ipython",
    "version": 3
   },
   "file_extension": ".py",
   "mimetype": "text/x-python",
   "name": "python",
   "nbconvert_exporter": "python",
   "pygments_lexer": "ipython3",
   "version": "3.9.13"
  },
  "orig_nbformat": 4,
  "vscode": {
   "interpreter": {
    "hash": "61483be7dd8d3a1f964d7e1e788036c352fe440903e5fe5a6930904c77fb0d92"
   }
  }
 },
 "nbformat": 4,
 "nbformat_minor": 2
}
