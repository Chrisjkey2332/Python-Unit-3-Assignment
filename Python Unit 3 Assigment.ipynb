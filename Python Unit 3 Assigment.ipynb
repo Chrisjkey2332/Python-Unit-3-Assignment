{
 "cells": [
  {
   "cell_type": "code",
   "execution_count": null,
   "metadata": {},
   "outputs": [],
   "source": [
    "def get_order():\n",
    "    print (\"[command] [item] (command is a to add, d to delete, q t quit)\")\n",
    "    line = raw_input()\n",
    "\n",
    "    command = line[:1]\n",
    "    item = line[2:]\n",
    "\n",
    "    return command, item\n",
    "\n",
    "def add_to_cart(item, cart):\n",
    "    if not item in cart:\n",
    "        cart[item] = 0\n",
    "    cart[item] += 1\n",
    "\n",
    "def delete_from_cart(item, cart):\n",
    "    if item in cart:\n",
    "        cart[item] -=1\n",
    "\n",
    "def process_order(order, cart):\n",
    "    command, item = order\n",
    "\n",
    "    if command == \"a\":\n",
    "        add_to_cart(item, cart)\n",
    "    elif command == \"d\" and item in cart:\n",
    "        delete_from_cart(item, cart)\n",
    "    elif command == \"q\":\n",
    "        return False\n",
    "    \n",
    "    return True\n",
    "\n",
    "def go_shopping():\n",
    "    cart = dict()\n",
    "    \n",
    "    while True:\n",
    "        order = get_order()\n",
    "        if not process_order(order, cart):\n",
    "            break \n",
    "\n",
    "    print (cart)\n",
    "    print (\"Finished!\")\n",
    "\n",
    "go_shopping()"
   ]
  },
  {
   "cell_type": "code",
   "execution_count": null,
   "metadata": {},
   "outputs": [],
   "source": [
    "cart = []\n",
    "\n",
    "# Add to cart function\n",
    "def addItem(item):\n",
    "    clear_output()\n",
    "    cart.append(item)\n",
    "    \n",
    "# Remove from cart function\n",
    "def removeItem(item):\n",
    "    clear_output()\n",
    "    cart.remove(item)\n",
    "    \n",
    "# Show cart function\n",
    "def showCart():\n",
    "    clear_output()\n",
    "    print(\"Your cart includes:\")\n",
    "    for item in cart:\n",
    "        print(item)\n",
    "# Clear cart\n",
    "def clearCart():\n",
    "    clear_output()\n",
    "    print(\"Your cart is empty, feel free to add more if you like!\")\n",
    "    cart.clear()\n",
    "\n",
    "# The user interface/system response portion    \n",
    "def shoppingCart():\n",
    "    while True:\n",
    "        response = input(\"You can: quit / add / remove / show / or clear\")\n",
    "        \n",
    "        if response.lower() == 'quit':\n",
    "            print(\"Thanks for shopping here's your cart\")\n",
    "            showCart()\n",
    "            break\n",
    "        elif response.lower() == 'add':\n",
    "            item = input('What would you like to add?')\n",
    "            addItem(item)\n",
    "        elif response.lower() == 'remove':\n",
    "            showCart()\n",
    "            item = input('What item do you want to remove?')\n",
    "            removeItem(item)\n",
    "        elif response.lower() == 'show':\n",
    "            showCart()\n",
    "        elif response.lower() == 'clear':\n",
    "            clearCart()\n",
    "        else:\n",
    "            print(\"Sorry not a valid response - Please choose add/remove/clear/show or quit\")\n",
    "            \n",
    "shoppingCart()"
   ]
  },
  {
   "cell_type": "code",
   "execution_count": null,
   "metadata": {},
   "outputs": [],
   "source": [
    "import module\n",
    "    \n",
    "print(module.circumferenceFinder())"
   ]
  }
 ],
 "metadata": {
  "kernelspec": {
   "display_name": "Python 3.9.13 64-bit (microsoft store)",
   "language": "python",
   "name": "python3"
  },
  "language_info": {
   "codemirror_mode": {
    "name": "ipython",
    "version": 3
   },
   "file_extension": ".py",
   "mimetype": "text/x-python",
   "name": "python",
   "nbconvert_exporter": "python",
   "pygments_lexer": "ipython3",
   "version": "3.9.13"
  },
  "orig_nbformat": 4,
  "vscode": {
   "interpreter": {
    "hash": "61483be7dd8d3a1f964d7e1e788036c352fe440903e5fe5a6930904c77fb0d92"
   }
  }
 },
 "nbformat": 4,
 "nbformat_minor": 2
}
